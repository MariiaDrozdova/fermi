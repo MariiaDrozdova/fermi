{
 "cells": [
  {
   "cell_type": "code",
   "execution_count": 1,
   "metadata": {},
   "outputs": [],
   "source": [
    "import sys\n",
    "import os\n",
    "import cv2\n",
    "import numpy as np\n",
    "import pandas as pd\n",
    "import matplotlib.pyplot as plt\n",
    "from astropy.io import fits\n",
    "\n",
    "\n",
    "\n",
    "def openAsImage(fname):        \n",
    "    fits_image = fits.open(fname)[0].data\n",
    "    #img = np.zeros((200,200,3))\n",
    "    #img2 = np.zeros_like(img)\n",
    "    #img2[:,:,0] = fits_image\n",
    "    #img2[:,:,1] = fits_image\n",
    "    #img2[:,:,2] = fits_image\n",
    "    #print(fits_image.info())\n",
    "    return fits_image"
   ]
  },
  {
   "cell_type": "code",
   "execution_count": 2,
   "metadata": {},
   "outputs": [],
   "source": [
    "import numpy as np\n",
    "from scipy.stats import poisson\n",
    "\n",
    "observations = np.array([[0,1,0],[1,2,1],[0,1,0]])\n",
    "model = np.array([[0,0,0],[0,9,0],[0,0,0]])\n",
    "\n",
    "def findBrightest(picture):\n",
    "    m = len(picture[0])\n",
    "    index = np.argmax(picture)\n",
    "    i = index // m\n",
    "    j = index % m\n",
    "    return([i, j])    \n",
    "\n",
    "\n",
    "def likelihood(model, observations):\n",
    "    ll = 1.00\n",
    "    x = poisson.pmf(observations,model)\n",
    "    x = (x == 0) + x\n",
    "    return np.sum(-np.log(x))\n",
    "            \n",
    "def sources(model, observations, mask):\n",
    "    int_cr = 11#34.024\n",
    "    new_likelihood = int_cr+1\n",
    "    likelihood0 = 0\n",
    "    new_mask = mask\n",
    "    while (new_likelihood - likelihood0 > int_cr):\n",
    "        observations = np.multiply(observations, new_mask)\n",
    "        index = findBrightest(observations)\n",
    "        #print(index)\n",
    "        likelihood0 = new_likelihood\n",
    "        mask = new_mask\n",
    "        new_mask = mask.copy()\n",
    "        new_mask[index[0], index[1]] = 0\n",
    "        max_likelihood = - np.inf\n",
    "        koef = 0\n",
    "        for k in range(10):\n",
    "            model[index[0], index[1]] += observations[index[0], index[1]]\n",
    "            new_likelihood = likelihood(model, observations)\n",
    "            if max_likelihood < new_likelihood:\n",
    "                max_likelihood = new_likelihood\n",
    "                koef = k\n",
    "        new_likelihood = max_likelihood\n",
    "        model[index[0], index[1]]=observations[index[0], index[1]] * (k+1)\n",
    "        #print(new_likelihood)\n",
    "    return model\n",
    "\n",
    "    "
   ]
  },
  {
   "cell_type": "code",
   "execution_count": 3,
   "metadata": {},
   "outputs": [],
   "source": [
    "\n",
    "points_model_map_n = openAsImage(\"/media/masha/Maxtor/database3/sky226_coord_ra21.5380900234_dec-29.5174035558_points_model_map.fits.noisy\")\n",
    "back_model_map_n = openAsImage(\"/media/masha/Maxtor/database3/sky226_coord_ra21.5380900234_dec-29.5174035558_back_model_map.fits.noisy\")\n",
    "observations = points_model_map_n + back_model_map_n\n",
    "\n",
    "points_model_map = openAsImage(\"/media/masha/Maxtor/database3/sky226_coord_ra21.5380900234_dec-29.5174035558_points_model_map.fits\")\n",
    "back_model_map = openAsImage(\"/media/masha/Maxtor/database3/sky226_coord_ra21.5380900234_dec-29.5174035558_back_model_map.fits\")\n",
    "nonoise = points_model_map + back_model_map\n",
    "points_deconv_map = openAsImage(\"/media/masha/Maxtor/database3/sky226_coord_ra21.5380900234_dec-29.5174035558_points_deconvolved_map.fits\")\n",
    "back_deconv_map = openAsImage(\"/media/masha/Maxtor/database3/sky226_coord_ra21.5380900234_dec-29.5174035558_back_deconvolved_map.fits\")\n",
    "answer = points_deconv_map  + back_deconv_map\n",
    "\n",
    "model = np.zeros(observations.shape)\n"
   ]
  },
  {
   "cell_type": "code",
   "execution_count": 4,
   "metadata": {},
   "outputs": [
    {
     "data": {
      "text/plain": [
       "array([[0., 0., 0., ..., 0., 0., 0.],\n",
       "       [0., 0., 0., ..., 0., 0., 0.],\n",
       "       [0., 0., 0., ..., 0., 0., 0.],\n",
       "       ...,\n",
       "       [0., 0., 0., ..., 0., 0., 0.],\n",
       "       [0., 0., 0., ..., 0., 0., 0.],\n",
       "       [0., 0., 0., ..., 0., 0., 0.]])"
      ]
     },
     "execution_count": 4,
     "metadata": {},
     "output_type": "execute_result"
    }
   ],
   "source": [
    "sources(model, observations, np.ones((len(observations), len(model))))"
   ]
  },
  {
   "cell_type": "code",
   "execution_count": 5,
   "metadata": {},
   "outputs": [
    {
     "data": {
      "image/png": "[encoded data removed]",
      "text/plain": [
       "<Figure size 720x720 with 2 Axes>"
      ]
     },
     "metadata": {},
     "output_type": "display_data"
    }
   ],
   "source": [
    "plt.figure(figsize=(10,10))\n",
    "plt.subplot(211)\n",
    "plt.imshow(model)\n",
    "plt.subplot(212)\n",
    "plt.imshow(points_deconv_map)\n",
    "plt.show()\n"
   ]
  },
  {
   "cell_type": "code",
   "execution_count": null,
   "metadata": {},
   "outputs": [],
   "source": []
  },
  {
   "cell_type": "code",
   "execution_count": null,
   "metadata": {},
   "outputs": [],
   "source": []
  }
 ],
 "metadata": {
  "kernelspec": {
   "display_name": "Python 3",
   "language": "python",
   "name": "python3"
  },
  "language_info": {
   "codemirror_mode": {
    "name": "ipython",
    "version": 3
   },
   "file_extension": ".py",
   "mimetype": "text/x-python",
   "name": "python",
   "nbconvert_exporter": "python",
   "pygments_lexer": "ipython3",
   "version": "3.6.5"
  }
 },
 "nbformat": 4,
 "nbformat_minor": 2
}
